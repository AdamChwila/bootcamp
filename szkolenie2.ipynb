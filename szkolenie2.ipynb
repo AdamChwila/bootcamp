{
 "cells": [
  {
   "cell_type": "code",
   "execution_count": 1,
   "metadata": {},
   "outputs": [],
   "source": [
    "INPUT = [\n",
    "    ('Sepal length', 'Sepal width', 'Petal length', 'Petal width', 'Species'),\n",
    "    (5.8, 2.7, 5.1, 1.9, 'virginica'),\n",
    "    (5.1, 3.5, 1.4, 0.2, 'setosa'),\n",
    "    (5.7, 2.8, 4.1, 1.3, 'versicolor'),\n",
    "    (6.3, 2.9, 5.6, 1.8, 'virginica'),\n",
    "    (6.4, 3.2, 4.5, 1.5, 'versicolor'),\n",
    "    (4.7, 3.2, 1.3, 0.2, 'setosa'),\n",
    "    (7.0, 3.2, 4.7, 1.4, 'versicolor'),\n",
    "    (7.6, 3.0, 6.6, 2.1, 'virginica'),\n",
    "    (4.9, 3.0, 1.4, 0.2, 'setosa'),\n",
    "    (4.9, 2.5, 4.5, 1.7, 'virginica'),\n",
    "    (7.1, 3.0, 5.9, 2.1, 'virginica'),\n",
    "    (4.6, 3.4, 1.4, 0.3, 'setosa'),\n",
    "    (5.4, 3.9, 1.7, 0.4, 'setosa'),\n",
    "    (5.7, 2.8, 4.5, 1.3, 'versicolor'),\n",
    "    (5.0, 3.6, 1.4, 0.3, 'setosa'),\n",
    "    (5.5, 2.3, 4.0, 1.3, 'versicolor'),\n",
    "    (6.5, 3.0, 5.8, 2.2, 'virginica'),\n",
    "    (6.5, 2.8, 4.6, 1.5, 'versicolor'),\n",
    "    (6.3, 3.3, 6.0, 2.5, 'virginica'),\n",
    "    (6.9, 3.1, 4.9, 1.5, 'versicolor'),\n",
    "    (4.6, 3.1, 1.5, 0.2, 'setosa'),\n",
    "]\n"
   ]
  },
  {
   "cell_type": "code",
   "execution_count": 2,
   "metadata": {},
   "outputs": [
    {
     "data": {
      "text/plain": [
       "[('Sepal length', 'Sepal width', 'Petal length', 'Petal width', 'Species'),\n",
       " (5.8, 2.7, 5.1, 1.9, 'virginica'),\n",
       " (5.1, 3.5, 1.4, 0.2, 'setosa'),\n",
       " (5.7, 2.8, 4.1, 1.3, 'versicolor'),\n",
       " (6.3, 2.9, 5.6, 1.8, 'virginica'),\n",
       " (6.4, 3.2, 4.5, 1.5, 'versicolor'),\n",
       " (4.7, 3.2, 1.3, 0.2, 'setosa'),\n",
       " (7.0, 3.2, 4.7, 1.4, 'versicolor'),\n",
       " (7.6, 3.0, 6.6, 2.1, 'virginica'),\n",
       " (4.9, 3.0, 1.4, 0.2, 'setosa'),\n",
       " (4.9, 2.5, 4.5, 1.7, 'virginica'),\n",
       " (7.1, 3.0, 5.9, 2.1, 'virginica'),\n",
       " (4.6, 3.4, 1.4, 0.3, 'setosa'),\n",
       " (5.4, 3.9, 1.7, 0.4, 'setosa'),\n",
       " (5.7, 2.8, 4.5, 1.3, 'versicolor'),\n",
       " (5.0, 3.6, 1.4, 0.3, 'setosa'),\n",
       " (5.5, 2.3, 4.0, 1.3, 'versicolor'),\n",
       " (6.5, 3.0, 5.8, 2.2, 'virginica'),\n",
       " (6.5, 2.8, 4.6, 1.5, 'versicolor'),\n",
       " (6.3, 3.3, 6.0, 2.5, 'virginica'),\n",
       " (6.9, 3.1, 4.9, 1.5, 'versicolor'),\n",
       " (4.6, 3.1, 1.5, 0.2, 'setosa')]"
      ]
     },
     "execution_count": 2,
     "metadata": {},
     "output_type": "execute_result"
    }
   ],
   "source": [
    "INPUT"
   ]
  },
  {
   "cell_type": "code",
   "execution_count": 69,
   "metadata": {},
   "outputs": [
    {
     "name": "stdout",
     "output_type": "stream",
     "text": [
      "('Sepal length', 'Sepal width', 'Petal length', 'Petal width', 'Species')\n"
     ]
    },
    {
     "data": {
      "text/plain": [
       "[[5.1, 3.5, 1.4, 0.2, 'setosa'],\n",
       " [4.7, 3.2, 1.3, 0.2, 'setosa'],\n",
       " (4.6, 3.4, 1.4, 0.3, 'setosa'),\n",
       " set()]"
      ]
     },
     "execution_count": 69,
     "metadata": {},
     "output_type": "execute_result"
    }
   ],
   "source": [
    "header=INPUT[0]\n",
    "print(header)\n",
    "output=[\n",
    "  list(INPUT[2]),  \n",
    "  list(INPUT[6]) ,\n",
    "    tuple(INPUT[12]),\n",
    "  set() \n",
    "    \n",
    "]\n",
    "output\n"
   ]
  },
  {
   "cell_type": "code",
   "execution_count": 63,
   "metadata": {},
   "outputs": [
    {
     "data": {
      "text/plain": [
       "\u001b[0;31mSignature:\u001b[0m \u001b[0mlist\u001b[0m\u001b[0;34m.\u001b[0m\u001b[0mextend\u001b[0m\u001b[0;34m(\u001b[0m\u001b[0mself\u001b[0m\u001b[0;34m,\u001b[0m \u001b[0miterable\u001b[0m\u001b[0;34m,\u001b[0m \u001b[0;34m/\u001b[0m\u001b[0;34m)\u001b[0m\u001b[0;34m\u001b[0m\u001b[0;34m\u001b[0m\u001b[0m\n",
       "\u001b[0;31mDocstring:\u001b[0m Extend list by appending elements from the iterable.\n",
       "\u001b[0;31mType:\u001b[0m      method_descriptor\n"
      ]
     },
     "metadata": {},
     "output_type": "display_data"
    }
   ],
   "source": [
    "list.extend?"
   ]
  },
  {
   "cell_type": "code",
   "execution_count": 57,
   "metadata": {},
   "outputs": [
    {
     "data": {
      "text/plain": [
       "\u001b[0;31mDocstring:\u001b[0m\n",
       "print(value, ..., sep=' ', end='\\n', file=sys.stdout, flush=False)\n",
       "\n",
       "Prints the values to a stream, or to sys.stdout by default.\n",
       "Optional keyword arguments:\n",
       "file:  a file-like object (stream); defaults to the current sys.stdout.\n",
       "sep:   string inserted between values, default a space.\n",
       "end:   string appended after the last value, default a newline.\n",
       "flush: whether to forcibly flush the stream.\n",
       "\u001b[0;31mType:\u001b[0m      builtin_function_or_method\n"
      ]
     },
     "metadata": {},
     "output_type": "display_data"
    }
   ],
   "source": []
  },
  {
   "cell_type": "code",
   "execution_count": 7,
   "metadata": {},
   "outputs": [
    {
     "ename": "TypeError",
     "evalue": "extend() takes exactly one argument (2 given)",
     "output_type": "error",
     "traceback": [
      "\u001b[0;31m---------------------------------------------------------------------------\u001b[0m",
      "\u001b[0;31mTypeError\u001b[0m                                 Traceback (most recent call last)",
      "\u001b[0;32m<ipython-input-7-692964a96ba1>\u001b[0m in \u001b[0;36m<module>\u001b[0;34m\u001b[0m\n\u001b[0;32m----> 1\u001b[0;31m \u001b[0moutput\u001b[0m\u001b[0;34m.\u001b[0m\u001b[0mextend\u001b[0m\u001b[0;34m(\u001b[0m\u001b[0mINPUT\u001b[0m\u001b[0;34m[\u001b[0m\u001b[0;36m2\u001b[0m\u001b[0;34m]\u001b[0m\u001b[0;34m,\u001b[0m\u001b[0mINPUT\u001b[0m\u001b[0;34m[\u001b[0m\u001b[0;36m6\u001b[0m\u001b[0;34m]\u001b[0m\u001b[0;34m)\u001b[0m\u001b[0;34m\u001b[0m\u001b[0;34m\u001b[0m\u001b[0m\n\u001b[0m\u001b[1;32m      2\u001b[0m \u001b[0moutput\u001b[0m\u001b[0;34m\u001b[0m\u001b[0;34m\u001b[0m\u001b[0m\n",
      "\u001b[0;31mTypeError\u001b[0m: extend() takes exactly one argument (2 given)"
     ]
    }
   ],
   "source": [
    "\n",
    "\n",
    "output"
   ]
  },
  {
   "cell_type": "markdown",
   "metadata": {},
   "source": [
    "# Mój drugi dzień szkolenia\n",
    "## Jupyter\n",
    "1. Pierwszy\n",
    "2. Drugi 'print()' *jak* tam **coś**\n",
    "* Trzeci\n",
    "* czwarty"
   ]
  },
  {
   "cell_type": "code",
   "execution_count": 9,
   "metadata": {},
   "outputs": [
    {
     "data": {
      "text/plain": [
       "\u001b[0;31mDocstring:\u001b[0m\n",
       "print(value, ..., sep=' ', end='\\n', file=sys.stdout, flush=False)\n",
       "\n",
       "Prints the values to a stream, or to sys.stdout by default.\n",
       "Optional keyword arguments:\n",
       "file:  a file-like object (stream); defaults to the current sys.stdout.\n",
       "sep:   string inserted between values, default a space.\n",
       "end:   string appended after the last value, default a newline.\n",
       "flush: whether to forcibly flush the stream.\n",
       "\u001b[0;31mType:\u001b[0m      builtin_function_or_method\n"
      ]
     },
     "metadata": {},
     "output_type": "display_data"
    }
   ],
   "source": [
    "print??"
   ]
  },
  {
   "cell_type": "code",
   "execution_count": null,
   "metadata": {},
   "outputs": [],
   "source": []
  },
  {
   "cell_type": "code",
   "execution_count": 10,
   "metadata": {},
   "outputs": [
    {
     "name": "stdout",
     "output_type": "stream",
     "text": [
      "['50_Startups.csv', 'data2.txt', 'Data.csv', 'data.txt', 'ign.csv', 'Mall_Customers.csv', 'Position_Salaries.csv', 'python_ml.ipynb', 'Salary_Data.csv', 'Social_Network_Ads.csv', 'szkolenie_AIMC.ipynb', 'test.csv', 'test.txt', 'Untitled1.ipynb', 'Untitled2.ipynb', 'Untitled3.ipynb', 'Untitled.ipynb', 'Wine.csv']\n"
     ]
    }
   ],
   "source": [
    "pliki=!ls\n",
    "print(pliki)"
   ]
  },
  {
   "cell_type": "code",
   "execution_count": 11,
   "metadata": {},
   "outputs": [
    {
     "name": "stdout",
     "output_type": "stream",
     "text": [
      "174 ns ± 3.28 ns per loop (mean ± std. dev. of 7 runs, 10000000 loops each)\n"
     ]
    }
   ],
   "source": [
    "%%timeit\n",
    "\n",
    "a=set()\n",
    "a.add(1)\n",
    "a.add(2)"
   ]
  },
  {
   "cell_type": "code",
   "execution_count": 12,
   "metadata": {},
   "outputs": [
    {
     "name": "stdout",
     "output_type": "stream",
     "text": [
      "184 ns ± 0.569 ns per loop (mean ± std. dev. of 7 runs, 10000000 loops each)\n"
     ]
    }
   ],
   "source": [
    "%%timeit\n",
    "\n",
    "b=set()\n",
    "b.update({1,2})"
   ]
  },
  {
   "cell_type": "markdown",
   "metadata": {},
   "source": [
    "|imie|nazwisko|\n",
    "|---|---|\n",
    "Jan| Twardowski|"
   ]
  },
  {
   "cell_type": "code",
   "execution_count": 18,
   "metadata": {},
   "outputs": [
    {
     "data": {
      "text/latex": [
       "$$c = \\sqrt{a^2 + b^2}$$\n"
      ],
      "text/plain": [
       "<IPython.core.display.Latex object>"
      ]
     },
     "metadata": {},
     "output_type": "display_data"
    }
   ],
   "source": [
    "%%latex\n",
    "$$c = \\sqrt{a^2 + b^2}$$"
   ]
  },
  {
   "cell_type": "code",
   "execution_count": 16,
   "metadata": {},
   "outputs": [],
   "source": [
    "%matplotlib inline"
   ]
  },
  {
   "cell_type": "code",
   "execution_count": 19,
   "metadata": {},
   "outputs": [
    {
     "data": {
      "image/png": "[encoded data removed]",
      "text/plain": [
       "<Figure size 432x288 with 1 Axes>"
      ]
     },
     "metadata": {
      "needs_background": "light"
     },
     "output_type": "display_data"
    }
   ],
   "source": [
    "import math\n",
    "import random\n",
    "from matplotlib import pyplot as plt\n",
    "\n",
    "x1 = [x*0.01 for x in range(0,628)]\n",
    "y1 = [math.sin(x*0.01)+random.gauss(0, 0.1) for x in range(0,628)]\n",
    "plt.plot(x1, y1)\n",
    "\n",
    "x2 = [x*0.5 for x in range(0,round(63/5))]\n",
    "y2 = [math.cos(x*0.5) for x in range(0,round(63/5))]\n",
    "plt.plot(x2, y2, 'o-')\n",
    "\n",
    "plt.show()"
   ]
  },
  {
   "cell_type": "code",
   "execution_count": 17,
   "metadata": {},
   "outputs": [],
   "source": [
    "import pandas as pd"
   ]
  },
  {
   "cell_type": "code",
   "execution_count": 21,
   "metadata": {},
   "outputs": [],
   "source": [
    "df=pd.read_html('https://pl.wikipedia.org/wiki/Lot_kosmiczny')"
   ]
  },
  {
   "cell_type": "code",
   "execution_count": 24,
   "metadata": {},
   "outputs": [
    {
     "data": {
      "text/html": [
       "<div>\n",
       "<style scoped>\n",
       "    .dataframe tbody tr th:only-of-type {\n",
       "        vertical-align: middle;\n",
       "    }\n",
       "\n",
       "    .dataframe tbody tr th {\n",
       "        vertical-align: top;\n",
       "    }\n",
       "\n",
       "    .dataframe thead th {\n",
       "        text-align: right;\n",
       "    }\n",
       "</style>\n",
       "<table border=\"1\" class=\"dataframe\">\n",
       "  <thead>\n",
       "    <tr style=\"text-align: right;\">\n",
       "      <th></th>\n",
       "      <th>p • d • eListy i chronologie eksploracji kosmosu</th>\n",
       "      <th>p • d • eListy i chronologie eksploracji kosmosu.1</th>\n",
       "      <th>p • d • eListy i chronologie eksploracji kosmosu.2</th>\n",
       "    </tr>\n",
       "  </thead>\n",
       "  <tbody>\n",
       "    <tr>\n",
       "      <td>0</td>\n",
       "      <td>NaN</td>\n",
       "      <td>NaN</td>\n",
       "      <td>NaN</td>\n",
       "    </tr>\n",
       "    <tr>\n",
       "      <td>1</td>\n",
       "      <td>Loty załogowe</td>\n",
       "      <td>Chronologicznie 1961–1970 1971–1980 1981–1990 ...</td>\n",
       "      <td>NaN</td>\n",
       "    </tr>\n",
       "    <tr>\n",
       "      <td>2</td>\n",
       "      <td>Chronologicznie</td>\n",
       "      <td>1961–1970 1971–1980 1981–1990 1991–2000 2001–2...</td>\n",
       "      <td>NaN</td>\n",
       "    </tr>\n",
       "    <tr>\n",
       "      <td>3</td>\n",
       "      <td>NaN</td>\n",
       "      <td>NaN</td>\n",
       "      <td>NaN</td>\n",
       "    </tr>\n",
       "    <tr>\n",
       "      <td>4</td>\n",
       "      <td>Tematycznie</td>\n",
       "      <td>Lista załogowych lotów kosmicznych według prog...</td>\n",
       "      <td>NaN</td>\n",
       "    </tr>\n",
       "    <tr>\n",
       "      <td>5</td>\n",
       "      <td>NaN</td>\n",
       "      <td>NaN</td>\n",
       "      <td>NaN</td>\n",
       "    </tr>\n",
       "    <tr>\n",
       "      <td>6</td>\n",
       "      <td>Loty księżycowe</td>\n",
       "      <td>Lista lotów księżycowych</td>\n",
       "      <td>NaN</td>\n",
       "    </tr>\n",
       "    <tr>\n",
       "      <td>7</td>\n",
       "      <td>NaN</td>\n",
       "      <td>NaN</td>\n",
       "      <td>NaN</td>\n",
       "    </tr>\n",
       "    <tr>\n",
       "      <td>8</td>\n",
       "      <td>Loty międzyplanetarne</td>\n",
       "      <td>Lista lotów międzyplanetarnych</td>\n",
       "      <td>NaN</td>\n",
       "    </tr>\n",
       "    <tr>\n",
       "      <td>9</td>\n",
       "      <td>NaN</td>\n",
       "      <td>NaN</td>\n",
       "      <td>NaN</td>\n",
       "    </tr>\n",
       "    <tr>\n",
       "      <td>10</td>\n",
       "      <td>Kosmonauci</td>\n",
       "      <td>Alfabetycznie Grupy i oddziały Pierwsi według ...</td>\n",
       "      <td>NaN</td>\n",
       "    </tr>\n",
       "    <tr>\n",
       "      <td>11</td>\n",
       "      <td>NaN</td>\n",
       "      <td>NaN</td>\n",
       "      <td>NaN</td>\n",
       "    </tr>\n",
       "    <tr>\n",
       "      <td>12</td>\n",
       "      <td>Międzynarodowa Stacja Kosmiczna</td>\n",
       "      <td>Ekspedycje Loty załogowe Loty bezzałogowe Gośc...</td>\n",
       "      <td>NaN</td>\n",
       "    </tr>\n",
       "    <tr>\n",
       "      <td>13</td>\n",
       "      <td>NaN</td>\n",
       "      <td>NaN</td>\n",
       "      <td>NaN</td>\n",
       "    </tr>\n",
       "    <tr>\n",
       "      <td>14</td>\n",
       "      <td>Misje</td>\n",
       "      <td>Ekspedycje na stacje Salut Ekspedycje na stacj...</td>\n",
       "      <td>NaN</td>\n",
       "    </tr>\n",
       "    <tr>\n",
       "      <td>15</td>\n",
       "      <td>NaN</td>\n",
       "      <td>NaN</td>\n",
       "      <td>NaN</td>\n",
       "    </tr>\n",
       "    <tr>\n",
       "      <td>16</td>\n",
       "      <td>Inne</td>\n",
       "      <td>Rekordy lotów kosmicznych Lista rakiet nośnych...</td>\n",
       "      <td>NaN</td>\n",
       "    </tr>\n",
       "  </tbody>\n",
       "</table>\n",
       "</div>"
      ],
      "text/plain": [
       "   p • d • eListy i chronologie eksploracji kosmosu  \\\n",
       "0                                               NaN   \n",
       "1                                     Loty załogowe   \n",
       "2                                   Chronologicznie   \n",
       "3                                               NaN   \n",
       "4                                       Tematycznie   \n",
       "5                                               NaN   \n",
       "6                                   Loty księżycowe   \n",
       "7                                               NaN   \n",
       "8                             Loty międzyplanetarne   \n",
       "9                                               NaN   \n",
       "10                                       Kosmonauci   \n",
       "11                                              NaN   \n",
       "12                  Międzynarodowa Stacja Kosmiczna   \n",
       "13                                              NaN   \n",
       "14                                            Misje   \n",
       "15                                              NaN   \n",
       "16                                             Inne   \n",
       "\n",
       "   p • d • eListy i chronologie eksploracji kosmosu.1  \\\n",
       "0                                                 NaN   \n",
       "1   Chronologicznie 1961–1970 1971–1980 1981–1990 ...   \n",
       "2   1961–1970 1971–1980 1981–1990 1991–2000 2001–2...   \n",
       "3                                                 NaN   \n",
       "4   Lista załogowych lotów kosmicznych według prog...   \n",
       "5                                                 NaN   \n",
       "6                            Lista lotów księżycowych   \n",
       "7                                                 NaN   \n",
       "8                      Lista lotów międzyplanetarnych   \n",
       "9                                                 NaN   \n",
       "10  Alfabetycznie Grupy i oddziały Pierwsi według ...   \n",
       "11                                                NaN   \n",
       "12  Ekspedycje Loty załogowe Loty bezzałogowe Gośc...   \n",
       "13                                                NaN   \n",
       "14  Ekspedycje na stacje Salut Ekspedycje na stacj...   \n",
       "15                                                NaN   \n",
       "16  Rekordy lotów kosmicznych Lista rakiet nośnych...   \n",
       "\n",
       "    p • d • eListy i chronologie eksploracji kosmosu.2  \n",
       "0                                                 NaN   \n",
       "1                                                 NaN   \n",
       "2                                                 NaN   \n",
       "3                                                 NaN   \n",
       "4                                                 NaN   \n",
       "5                                                 NaN   \n",
       "6                                                 NaN   \n",
       "7                                                 NaN   \n",
       "8                                                 NaN   \n",
       "9                                                 NaN   \n",
       "10                                                NaN   \n",
       "11                                                NaN   \n",
       "12                                                NaN   \n",
       "13                                                NaN   \n",
       "14                                                NaN   \n",
       "15                                                NaN   \n",
       "16                                                NaN   "
      ]
     },
     "execution_count": 24,
     "metadata": {},
     "output_type": "execute_result"
    }
   ],
   "source": [
    "df[1]"
   ]
  },
  {
   "cell_type": "code",
   "execution_count": 25,
   "metadata": {},
   "outputs": [],
   "source": [
    "url = 'https://raw.githubusercontent.com/scikit-learn/scikit-learn/master/sklearn/datasets/data/iris.csv'\n",
    "columns = [\n",
    "    'Sepal length',\n",
    "    'Sepal width',\n",
    "    'Petal length',\n",
    "    'Petal width',\n",
    "    'Species'\n",
    "]"
   ]
  },
  {
   "cell_type": "code",
   "execution_count": 26,
   "metadata": {},
   "outputs": [],
   "source": [
    "df = pd.read_csv(url, skiprows=1, names=columns)"
   ]
  },
  {
   "cell_type": "code",
   "execution_count": 27,
   "metadata": {},
   "outputs": [
    {
     "data": {
      "text/html": [
       "<div>\n",
       "<style scoped>\n",
       "    .dataframe tbody tr th:only-of-type {\n",
       "        vertical-align: middle;\n",
       "    }\n",
       "\n",
       "    .dataframe tbody tr th {\n",
       "        vertical-align: top;\n",
       "    }\n",
       "\n",
       "    .dataframe thead th {\n",
       "        text-align: right;\n",
       "    }\n",
       "</style>\n",
       "<table border=\"1\" class=\"dataframe\">\n",
       "  <thead>\n",
       "    <tr style=\"text-align: right;\">\n",
       "      <th></th>\n",
       "      <th>Sepal length</th>\n",
       "      <th>Sepal width</th>\n",
       "      <th>Petal length</th>\n",
       "      <th>Petal width</th>\n",
       "      <th>Species</th>\n",
       "    </tr>\n",
       "  </thead>\n",
       "  <tbody>\n",
       "    <tr>\n",
       "      <td>0</td>\n",
       "      <td>5.1</td>\n",
       "      <td>3.5</td>\n",
       "      <td>1.4</td>\n",
       "      <td>0.2</td>\n",
       "      <td>0</td>\n",
       "    </tr>\n",
       "    <tr>\n",
       "      <td>1</td>\n",
       "      <td>4.9</td>\n",
       "      <td>3.0</td>\n",
       "      <td>1.4</td>\n",
       "      <td>0.2</td>\n",
       "      <td>0</td>\n",
       "    </tr>\n",
       "    <tr>\n",
       "      <td>2</td>\n",
       "      <td>4.7</td>\n",
       "      <td>3.2</td>\n",
       "      <td>1.3</td>\n",
       "      <td>0.2</td>\n",
       "      <td>0</td>\n",
       "    </tr>\n",
       "    <tr>\n",
       "      <td>3</td>\n",
       "      <td>4.6</td>\n",
       "      <td>3.1</td>\n",
       "      <td>1.5</td>\n",
       "      <td>0.2</td>\n",
       "      <td>0</td>\n",
       "    </tr>\n",
       "    <tr>\n",
       "      <td>4</td>\n",
       "      <td>5.0</td>\n",
       "      <td>3.6</td>\n",
       "      <td>1.4</td>\n",
       "      <td>0.2</td>\n",
       "      <td>0</td>\n",
       "    </tr>\n",
       "    <tr>\n",
       "      <td>...</td>\n",
       "      <td>...</td>\n",
       "      <td>...</td>\n",
       "      <td>...</td>\n",
       "      <td>...</td>\n",
       "      <td>...</td>\n",
       "    </tr>\n",
       "    <tr>\n",
       "      <td>145</td>\n",
       "      <td>6.7</td>\n",
       "      <td>3.0</td>\n",
       "      <td>5.2</td>\n",
       "      <td>2.3</td>\n",
       "      <td>2</td>\n",
       "    </tr>\n",
       "    <tr>\n",
       "      <td>146</td>\n",
       "      <td>6.3</td>\n",
       "      <td>2.5</td>\n",
       "      <td>5.0</td>\n",
       "      <td>1.9</td>\n",
       "      <td>2</td>\n",
       "    </tr>\n",
       "    <tr>\n",
       "      <td>147</td>\n",
       "      <td>6.5</td>\n",
       "      <td>3.0</td>\n",
       "      <td>5.2</td>\n",
       "      <td>2.0</td>\n",
       "      <td>2</td>\n",
       "    </tr>\n",
       "    <tr>\n",
       "      <td>148</td>\n",
       "      <td>6.2</td>\n",
       "      <td>3.4</td>\n",
       "      <td>5.4</td>\n",
       "      <td>2.3</td>\n",
       "      <td>2</td>\n",
       "    </tr>\n",
       "    <tr>\n",
       "      <td>149</td>\n",
       "      <td>5.9</td>\n",
       "      <td>3.0</td>\n",
       "      <td>5.1</td>\n",
       "      <td>1.8</td>\n",
       "      <td>2</td>\n",
       "    </tr>\n",
       "  </tbody>\n",
       "</table>\n",
       "<p>150 rows × 5 columns</p>\n",
       "</div>"
      ],
      "text/plain": [
       "     Sepal length  Sepal width  Petal length  Petal width  Species\n",
       "0             5.1          3.5           1.4          0.2        0\n",
       "1             4.9          3.0           1.4          0.2        0\n",
       "2             4.7          3.2           1.3          0.2        0\n",
       "3             4.6          3.1           1.5          0.2        0\n",
       "4             5.0          3.6           1.4          0.2        0\n",
       "..            ...          ...           ...          ...      ...\n",
       "145           6.7          3.0           5.2          2.3        2\n",
       "146           6.3          2.5           5.0          1.9        2\n",
       "147           6.5          3.0           5.2          2.0        2\n",
       "148           6.2          3.4           5.4          2.3        2\n",
       "149           5.9          3.0           5.1          1.8        2\n",
       "\n",
       "[150 rows x 5 columns]"
      ]
     },
     "execution_count": 27,
     "metadata": {},
     "output_type": "execute_result"
    }
   ],
   "source": [
    "df"
   ]
  },
  {
   "cell_type": "code",
   "execution_count": 33,
   "metadata": {},
   "outputs": [],
   "source": [
    "df1=df.sample(frac=0.1).reset_index(drop=True)"
   ]
  },
  {
   "cell_type": "code",
   "execution_count": 34,
   "metadata": {},
   "outputs": [
    {
     "data": {
      "text/plain": [
       "<bound method NDFrame.describe of     Sepal length  Sepal width  Petal length  Petal width  Species\n",
       "0            6.6          2.9           4.6          1.3        1\n",
       "1            5.8          4.0           1.2          0.2        0\n",
       "2            4.4          2.9           1.4          0.2        0\n",
       "3            5.0          2.0           3.5          1.0        1\n",
       "4            5.2          2.7           3.9          1.4        1\n",
       "5            5.0          2.3           3.3          1.0        1\n",
       "6            5.2          3.5           1.5          0.2        0\n",
       "7            5.3          3.7           1.5          0.2        0\n",
       "8            5.8          2.6           4.0          1.2        1\n",
       "9            5.9          3.2           4.8          1.8        1\n",
       "10           5.7          3.8           1.7          0.3        0\n",
       "11           4.6          3.4           1.4          0.3        0\n",
       "12           6.1          2.9           4.7          1.4        1\n",
       "13           4.9          2.5           4.5          1.7        2\n",
       "14           6.3          3.3           4.7          1.6        1>"
      ]
     },
     "execution_count": 34,
     "metadata": {},
     "output_type": "execute_result"
    }
   ],
   "source": [
    "df1.describe"
   ]
  },
  {
   "cell_type": "code",
   "execution_count": 37,
   "metadata": {},
   "outputs": [
    {
     "data": {
      "text/plain": [
       "array([[<matplotlib.axes._subplots.AxesSubplot object at 0x7f7787ef5d90>,\n",
       "        <matplotlib.axes._subplots.AxesSubplot object at 0x7f7787ec7c10>],\n",
       "       [<matplotlib.axes._subplots.AxesSubplot object at 0x7f7787e7a890>,\n",
       "        <matplotlib.axes._subplots.AxesSubplot object at 0x7f7787e38c10>],\n",
       "       [<matplotlib.axes._subplots.AxesSubplot object at 0x7f7787def8d0>,\n",
       "        <matplotlib.axes._subplots.AxesSubplot object at 0x7f7787dacc50>]],\n",
       "      dtype=object)"
      ]
     },
     "execution_count": 37,
     "metadata": {},
     "output_type": "execute_result"
    },
    {
     "data": {
      "image/png": "[encoded data removed]",
      "text/plain": [
       "<Figure size 432x288 with 6 Axes>"
      ]
     },
     "metadata": {
      "needs_background": "light"
     },
     "output_type": "display_data"
    }
   ],
   "source": [
    "df1.hist()"
   ]
  },
  {
   "cell_type": "markdown",
   "metadata": {},
   "source": [
    "# Zadania"
   ]
  },
  {
   "cell_type": "code",
   "execution_count": 92,
   "metadata": {},
   "outputs": [
    {
     "data": {
      "text/plain": [
       "{0, 2, 4}"
      ]
     },
     "execution_count": 92,
     "metadata": {},
     "output_type": "execute_result"
    }
   ],
   "source": [
    "a=(0,1,2,3)\n",
    "b=[2,3,4,5]\n",
    "c=set()\n",
    "c.update(a[::2],b[::2])\n",
    "c"
   ]
  },
  {
   "cell_type": "code",
   "execution_count": 105,
   "metadata": {},
   "outputs": [],
   "source": [
    "INPUT = [\n",
    "    ('Sepal length', 'Sepal width', 'Petal length', 'Petal width', 'Species'),\n",
    "    (5.8, 2.7, 5.1, 1.9, 'virginica'),\n",
    "    (5.1, 3.5, 1.4, 0.2, 'setosa'),\n",
    "    (5.7, 2.8, 4.1, 1.3, 'versicolor'),\n",
    "    (6.3, 2.9, 5.6, 1.8, 'virginica'),\n",
    "    (6.4, 3.2, 4.5, 1.5, 'versicolor'),\n",
    "    (4.7, 3.2, 1.3, 0.2, 'setosa'),\n",
    "    (7.0, 3.2, 4.7, 1.4, 'versicolor'),\n",
    "    (7.6, 3.0, 6.6, 2.1, 'virginica'),\n",
    "    (4.9, 3.0, 1.4, 0.2, 'setosa'),\n",
    "    (4.9, 2.5, 4.5, 1.7, 'virginica'),\n",
    "    (7.1, 3.0, 5.9, 2.1, 'virginica'),\n",
    "    (4.6, 3.4, 1.4, 0.3, 'setosa'),\n",
    "    (5.4, 3.9, 1.7, 0.4, 'setosa'),\n",
    "    (5.7, 2.8, 4.5, 1.3, 'versicolor'),\n",
    "    (5.0, 3.6, 1.4, 0.3, 'setosa'),\n",
    "    (5.5, 2.3, 4.0, 1.3, 'versicolor'),\n",
    "    (6.5, 3.0, 5.8, 2.2, 'virginica'),\n",
    "    (6.5, 2.8, 4.6, 1.5, 'versicolor'),\n",
    "    (6.3, 3.3, 6.0, 2.5, 'virginica'),\n",
    "    (6.9, 3.1, 4.9, 1.5, 'versicolor'),\n",
    "    (4.6, 3.1, 1.5, 0.2, 'setosa'),\n",
    "]"
   ]
  },
  {
   "cell_type": "code",
   "execution_count": 86,
   "metadata": {},
   "outputs": [],
   "source": [
    "header=INPUT[0]\n",
    "data=INPUT[1:]\n",
    "procent=0.6\n",
    "podzial=int(len(data)*procent)\n",
    "\n",
    "features=data[0:podzial]\n",
    "labels=data[podzial:]\n"
   ]
  },
  {
   "cell_type": "code",
   "execution_count": 100,
   "metadata": {},
   "outputs": [],
   "source": [
    "INPUT1 = (\n",
    "    5.8, 2.7, 5.1, 1.9, 'virginica',\n",
    "    5.1, 3.5, 1.4, 0.2, 'setosa',\n",
    "    5.7, 2.8, 4.1, 1.3, 'versicolor',\n",
    "    6.3, 2.9, 5.6, 1.8, 'virginica',\n",
    "    6.4, 3.2, 4.5, 1.5, 'versicolor',\n",
    "    4.7, 3.2, 1.3, 0.2, 'setosa',\n",
    ")\n"
   ]
  },
  {
   "cell_type": "code",
   "execution_count": 101,
   "metadata": {},
   "outputs": [
    {
     "data": {
      "text/plain": [
       "['virginica', 'setosa', 'versicolor', 'virginica', 'versicolor', 'setosa']"
      ]
     },
     "execution_count": 101,
     "metadata": {},
     "output_type": "execute_result"
    }
   ],
   "source": [
    "labels=list(INPUT1[4::5])\n",
    "labels"
   ]
  },
  {
   "cell_type": "code",
   "execution_count": 104,
   "metadata": {},
   "outputs": [
    {
     "data": {
      "text/plain": [
       "int"
      ]
     },
     "execution_count": 104,
     "metadata": {},
     "output_type": "execute_result"
    }
   ],
   "source": [
    "a, b, c=1,2,3"
   ]
  },
  {
   "cell_type": "code",
   "execution_count": 106,
   "metadata": {},
   "outputs": [],
   "source": [
    "header,*rekordy =INPUT"
   ]
  },
  {
   "cell_type": "code",
   "execution_count": 116,
   "metadata": {},
   "outputs": [],
   "source": [
    "INPUT3 = '10.13.37.1      nasa.gov esa.int roscosmos.ru'\n",
    "ip, *hosts = INPUT3.split()"
   ]
  },
  {
   "cell_type": "code",
   "execution_count": 120,
   "metadata": {},
   "outputs": [
    {
     "data": {
      "text/plain": [
       "{'A': 'Alfa', 'B': 'Bravo', 'C': 'Charlie', 'D': 'Delta'}"
      ]
     },
     "execution_count": 120,
     "metadata": {},
     "output_type": "execute_result"
    }
   ],
   "source": [
    "słownik={\n",
    "\"A\": 'Alfa',\n",
    "\"B\": 'Bravo',\n",
    "\"C\": 'Charlie',\n",
    "\"D\": 'Delta',\n",
    "\n",
    "}\n",
    "słownik"
   ]
  },
  {
   "cell_type": "code",
   "execution_count": 124,
   "metadata": {},
   "outputs": [
    {
     "name": "stdout",
     "output_type": "stream",
     "text": [
      "podaj duza litere\n"
     ]
    },
    {
     "name": "stdin",
     "output_type": "stream",
     "text": [
      " A\n"
     ]
    },
    {
     "data": {
      "text/plain": [
       "'Alfa'"
      ]
     },
     "execution_count": 124,
     "metadata": {},
     "output_type": "execute_result"
    }
   ],
   "source": [
    "print(\"podaj duza litere\")\n",
    "a=input()\n",
    "słownik.get(a,\"ni ma\")"
   ]
  },
  {
   "cell_type": "code",
   "execution_count": 127,
   "metadata": {},
   "outputs": [
    {
     "name": "stdin",
     "output_type": "stream",
     "text": [
      "Podaj liczbe 8\n"
     ]
    },
    {
     "data": {
      "text/plain": [
       "False"
      ]
     },
     "execution_count": 127,
     "metadata": {},
     "output_type": "execute_result"
    }
   ],
   "source": [
    "u=input('Podaj liczbe')\n",
    "int(u) %2==1"
   ]
  },
  {
   "cell_type": "code",
   "execution_count": 133,
   "metadata": {},
   "outputs": [
    {
     "name": "stdin",
     "output_type": "stream",
     "text": [
      "Podaj wiek w latach 18\n"
     ]
    },
    {
     "name": "stdout",
     "output_type": "stream",
     "text": [
      "pełnoletni\n"
     ]
    }
   ],
   "source": [
    "wiek=input(\"Podaj wiek w latach\")\n",
    "graniczny=18\n",
    "if int(wiek)>=graniczny:\n",
    "    print('pełnoletni')\n",
    "else:\n",
    "    print('niepelnoletni')"
   ]
  },
  {
   "cell_type": "code",
   "execution_count": 134,
   "metadata": {},
   "outputs": [],
   "source": [
    "INPUT7= (2, 3, 3.5, 4, 4.5, 5)"
   ]
  },
  {
   "cell_type": "code",
   "execution_count": 148,
   "metadata": {},
   "outputs": [
    {
     "data": {
      "text/plain": [
       "[2, 3, 3.5, 4, 4.5, 5]"
      ]
     },
     "execution_count": 148,
     "metadata": {},
     "output_type": "execute_result"
    }
   ],
   "source": [
    "list(INPUT7)"
   ]
  },
  {
   "cell_type": "code",
   "execution_count": 154,
   "metadata": {},
   "outputs": [
    {
     "name": "stdout",
     "output_type": "stream",
     "text": [
      "[2.0, 3.0, 3.5, 4.0, 4.5, 5.0]\n"
     ]
    }
   ],
   "source": [
    "i=0\n",
    "g=[]\n",
    "while i<len(INPUT7):\n",
    "    ocena=float(INPUT7[i])\n",
    "    g.append(ocena)\n",
    "    i+=1\n",
    "while True \n",
    "    ocena1=input('Podaj ocene')"
   ]
  },
  {
   "cell_type": "code",
   "execution_count": 153,
   "metadata": {},
   "outputs": [
    {
     "data": {
      "text/plain": [
       "[2.0, 3.0, 3.5, 4.0, 4.5, 5.0]"
      ]
     },
     "execution_count": 153,
     "metadata": {},
     "output_type": "execute_result"
    }
   ],
   "source": [
    "g"
   ]
  },
  {
   "cell_type": "code",
   "execution_count": 188,
   "metadata": {},
   "outputs": [
    {
     "data": {
      "text/plain": [
       "3"
      ]
     },
     "execution_count": 188,
     "metadata": {},
     "output_type": "execute_result"
    }
   ],
   "source": [
    "INPUT = [1, 4, 6, 7, 4, 4, 4, 5, 1, 7, 0,\n",
    "         0, 6, 5, 0, 0, 9, 7, 0, 4, 4, 8,\n",
    "         2, 4, 0, 0, 1, 9, 1, 7, 8, 8, 9,\n",
    "         1, 3, 5, 6, 8, 2, 8, 1, 3, 9, 5,\n",
    "         4, 8, 1, 9, 6, 3]"
   ]
  },
  {
   "cell_type": "code",
   "execution_count": 160,
   "metadata": {},
   "outputs": [],
   "source": [
    "\n",
    "a={}\n",
    "for i in INPUT:\n",
    "    if i in a:\n",
    "        a[i]+=1\n",
    "    else:\n",
    "        a[i]=1\n",
    "    \n",
    "    "
   ]
  },
  {
   "cell_type": "code",
   "execution_count": 164,
   "metadata": {},
   "outputs": [
    {
     "data": {
      "text/plain": [
       "{'small': 16, 'medium': 23, 'large': 11}"
      ]
     },
     "execution_count": 164,
     "metadata": {},
     "output_type": "execute_result"
    }
   ],
   "source": [
    "a={\n",
    "    'small':0,\n",
    "    'medium':0,\n",
    "    'large':0\n",
    "}\n",
    "\n",
    "for i in INPUT:\n",
    "    if 0 <= i <= 2:\n",
    "        a['small'] += 1\n",
    "    elif 3 <= i <= 7:\n",
    "        a['medium'] += 1\n",
    "    elif 8 <= i <= 9:\n",
    "        a['large'] += 1\n",
    "a\n",
    "\n"
   ]
  },
  {
   "cell_type": "code",
   "execution_count": 165,
   "metadata": {},
   "outputs": [],
   "source": [
    "TEXT='We choose to go to the Moon. We choose to go to the Moon in this decade and do the other things. Not because they are easy, but because they are hard. Because that goal will serve to organize and measure the best of our energies and skills. Because that challenge is one that we are willing to accept. One we are unwilling to postpone. And one we intend to win'"
   ]
  },
  {
   "cell_type": "code",
   "execution_count": 167,
   "metadata": {},
   "outputs": [],
   "source": [
    "w1=TEXT.split('.')"
   ]
  },
  {
   "cell_type": "code",
   "execution_count": 182,
   "metadata": {},
   "outputs": [
    {
     "data": {
      "text/plain": [
       "range(0, 7)"
      ]
     },
     "execution_count": 182,
     "metadata": {},
     "output_type": "execute_result"
    }
   ],
   "source": [
    "range(len(w1))"
   ]
  },
  {
   "cell_type": "code",
   "execution_count": 184,
   "metadata": {},
   "outputs": [],
   "source": [
    "for i in w1:\n",
    "    i.strip()\n",
    "    "
   ]
  },
  {
   "cell_type": "code",
   "execution_count": 189,
   "metadata": {},
   "outputs": [],
   "source": [
    "INPUT = [\n",
    "    ('Sepal length', 'Sepal width', 'Petal length', 'Petal width', 'Species'),\n",
    "    (5.8, 2.7, 5.1, 1.9, {'virginica'}),\n",
    "    (5.1, 3.5, 1.4, 0.2, {'setosa'}),\n",
    "    (5.7, 2.8, 4.1, 1.3, {'versicolor'}),\n",
    "    (6.3, 2.9, 5.6, 1.8, {'virginica'}),\n",
    "    (6.4, 3.2, 4.5, 1.5, {'versicolor'}),\n",
    "    (4.7, 3.2, 1.3, 0.2, {'setosa'}),\n",
    "    (7.0, 3.2, 4.7, 1.4, {'versicolor'}),\n",
    "    (7.6, 3.0, 6.6, 2.1, {'virginica'}),\n",
    "    (4.6, 3.1, 1.5, 0.2, {'setosa'}),\n",
    "]\n",
    "INPUT1=INPUT[1:]"
   ]
  },
  {
   "cell_type": "code",
   "execution_count": 204,
   "metadata": {},
   "outputs": [],
   "source": [
    "for *measurment, gatunek in INPUT1:\n",
    "    gatunek=gatunek.pop()"
   ]
  },
  {
   "cell_type": "code",
   "execution_count": 205,
   "metadata": {},
   "outputs": [],
   "source": [
    "INPUT = {\n",
    "    6: ['Doctorate', 'Prof-school'],\n",
    "    5: ['Masters', 'Bachelor', 'Engineer'],\n",
    "    4: ['HS-grad'],\n",
    "    3: ['Junior High'],\n",
    "    2: ['Primary School'],\n",
    "    1: ['Kindergarten'],\n",
    "}\n"
   ]
  },
  {
   "cell_type": "code",
   "execution_count": 208,
   "metadata": {},
   "outputs": [
    {
     "ename": "AttributeError",
     "evalue": "'list' object has no attribute 'split'",
     "output_type": "error",
     "traceback": [
      "\u001b[0;31m---------------------------------------------------------------------------\u001b[0m",
      "\u001b[0;31mAttributeError\u001b[0m                            Traceback (most recent call last)",
      "\u001b[0;32m<ipython-input-208-940ce31c38f1>\u001b[0m in \u001b[0;36m<module>\u001b[0;34m\u001b[0m\n\u001b[1;32m      1\u001b[0m \u001b[0ma\u001b[0m\u001b[0;34m=\u001b[0m\u001b[0mdict\u001b[0m\u001b[0;34m(\u001b[0m\u001b[0;34m)\u001b[0m\u001b[0;34m\u001b[0m\u001b[0;34m\u001b[0m\u001b[0m\n\u001b[1;32m      2\u001b[0m \u001b[0;32mfor\u001b[0m \u001b[0mi\u001b[0m \u001b[0;32min\u001b[0m \u001b[0mINPUT\u001b[0m\u001b[0;34m.\u001b[0m\u001b[0mvalues\u001b[0m\u001b[0;34m(\u001b[0m\u001b[0;34m)\u001b[0m\u001b[0;34m:\u001b[0m\u001b[0;34m\u001b[0m\u001b[0;34m\u001b[0m\u001b[0m\n\u001b[0;32m----> 3\u001b[0;31m     \u001b[0mi\u001b[0m\u001b[0;34m.\u001b[0m\u001b[0msplit\u001b[0m\u001b[0;34m(\u001b[0m\u001b[0;34m)\u001b[0m\u001b[0;34m\u001b[0m\u001b[0;34m\u001b[0m\u001b[0m\n\u001b[0m\u001b[1;32m      4\u001b[0m \u001b[0;34m\u001b[0m\u001b[0m\n\u001b[1;32m      5\u001b[0m \u001b[0;34m\u001b[0m\u001b[0m\n",
      "\u001b[0;31mAttributeError\u001b[0m: 'list' object has no attribute 'split'"
     ]
    }
   ],
   "source": [
    "output={}\n",
    "for nr,educations in INPUT.items():\n",
    "    \n",
    "\n",
    "    \n",
    "    \n",
    "    \n",
    "    "
   ]
  },
  {
   "cell_type": "code",
   "execution_count": 209,
   "metadata": {},
   "outputs": [],
   "source": [
    "INPUT = {\n",
    "    6: ['Doctorate', 'Prof-school'],\n",
    "    5: ['Masters', 'Bachelor', 'Engineer'],\n",
    "    4: ['HS-grad'],\n",
    "    3: ['Junior High'],\n",
    "    2: ['Primary School'],\n",
    "    1: ['Kindergarten'],\n",
    "}\n",
    "\n",
    "output = {}\n"
   ]
  },
  {
   "cell_type": "code",
   "execution_count": 212,
   "metadata": {},
   "outputs": [
    {
     "name": "stdout",
     "output_type": "stream",
     "text": [
      "{'Doctorate': '6', 'Prof-school': '6', 'Masters': '5', 'Bachelor': '5', 'Engineer': '5', 'HS-grad': '4', 'Junior High': '3', 'Primary School': '2', 'Kindergarten': '1'}\n"
     ]
    }
   ],
   "source": [
    "\n",
    "for key, value in INPUT.items():\n",
    "    for education in value:\n",
    "        output[education] = str(key)\n",
    "\n",
    "print(output)"
   ]
  },
  {
   "cell_type": "code",
   "execution_count": null,
   "metadata": {},
   "outputs": [],
   "source": []
  }
 ],
 "metadata": {
  "kernelspec": {
   "display_name": "Python 3",
   "language": "python",
   "name": "python3"
  },
  "language_info": {
   "codemirror_mode": {
    "name": "ipython",
    "version": 3
   },
   "file_extension": ".py",
   "mimetype": "text/x-python",
   "name": "python",
   "nbconvert_exporter": "python",
   "pygments_lexer": "ipython3",
   "version": "3.7.4"
  }
 },
 "nbformat": 4,
 "nbformat_minor": 4
}
